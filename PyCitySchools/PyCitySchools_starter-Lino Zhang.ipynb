{
 "cells": [
  {
   "cell_type": "markdown",
   "metadata": {},
   "source": [
    "### Note\n",
    "* Instructions have been included for each segment. You do not have to follow them exactly, but they are included to help you think through the steps."
   ]
  },
  {
   "cell_type": "code",
   "execution_count": 1,
   "metadata": {},
   "outputs": [],
   "source": [
    "# Dependencies and Setup\n",
    "import pandas as pd\n",
    "\n",
    "# File to Load (Remember to Change These)\n",
    "school_data_to_load = \"Resources/schools_complete.csv\"\n",
    "student_data_to_load = \"Resources/students_complete.csv\"\n",
    "\n",
    "# Read School and Student Data File and store into Pandas DataFrames\n",
    "school_data = pd.read_csv(school_data_to_load)\n",
    "student_data = pd.read_csv(student_data_to_load)\n",
    "\n",
    "# Combine the data into a single dataset.  \n",
    "school_data_complete = pd.merge(student_data, school_data, how=\"left\", on=[\"school_name\", \"school_name\"])"
   ]
  },
  {
   "cell_type": "markdown",
   "metadata": {},
   "source": [
    "## District Summary\n",
    "\n",
    "* Calculate the total number of schools\n",
    "\n",
    "* Calculate the total number of students\n",
    "\n",
    "* Calculate the total budget\n",
    "\n",
    "* Calculate the average math score \n",
    "\n",
    "* Calculate the average reading score\n",
    "\n",
    "* Calculate the percentage of students with a passing math score (70 or greater)\n",
    "\n",
    "* Calculate the percentage of students with a passing reading score (70 or greater)\n",
    "\n",
    "* Calculate the percentage of students who passed math **and** reading (% Overall Passing)\n",
    "\n",
    "* Create a dataframe to hold the above results\n",
    "\n",
    "* Optional: give the displayed data cleaner formatting"
   ]
  },
  {
   "cell_type": "code",
   "execution_count": 2,
   "metadata": {},
   "outputs": [
    {
     "data": {
      "text/html": [
       "<div>\n",
       "<style scoped>\n",
       "    .dataframe tbody tr th:only-of-type {\n",
       "        vertical-align: middle;\n",
       "    }\n",
       "\n",
       "    .dataframe tbody tr th {\n",
       "        vertical-align: top;\n",
       "    }\n",
       "\n",
       "    .dataframe thead th {\n",
       "        text-align: right;\n",
       "    }\n",
       "</style>\n",
       "<table border=\"1\" class=\"dataframe\">\n",
       "  <thead>\n",
       "    <tr style=\"text-align: right;\">\n",
       "      <th></th>\n",
       "      <th>Student ID</th>\n",
       "      <th>student_name</th>\n",
       "      <th>gender</th>\n",
       "      <th>grade</th>\n",
       "      <th>school_name</th>\n",
       "      <th>reading_score</th>\n",
       "      <th>math_score</th>\n",
       "      <th>School ID</th>\n",
       "      <th>type</th>\n",
       "      <th>size</th>\n",
       "      <th>budget</th>\n",
       "    </tr>\n",
       "  </thead>\n",
       "  <tbody>\n",
       "    <tr>\n",
       "      <th>0</th>\n",
       "      <td>0</td>\n",
       "      <td>Paul Bradley</td>\n",
       "      <td>M</td>\n",
       "      <td>9th</td>\n",
       "      <td>Huang High School</td>\n",
       "      <td>66</td>\n",
       "      <td>79</td>\n",
       "      <td>0</td>\n",
       "      <td>District</td>\n",
       "      <td>2917</td>\n",
       "      <td>1910635</td>\n",
       "    </tr>\n",
       "    <tr>\n",
       "      <th>1</th>\n",
       "      <td>1</td>\n",
       "      <td>Victor Smith</td>\n",
       "      <td>M</td>\n",
       "      <td>12th</td>\n",
       "      <td>Huang High School</td>\n",
       "      <td>94</td>\n",
       "      <td>61</td>\n",
       "      <td>0</td>\n",
       "      <td>District</td>\n",
       "      <td>2917</td>\n",
       "      <td>1910635</td>\n",
       "    </tr>\n",
       "    <tr>\n",
       "      <th>2</th>\n",
       "      <td>2</td>\n",
       "      <td>Kevin Rodriguez</td>\n",
       "      <td>M</td>\n",
       "      <td>12th</td>\n",
       "      <td>Huang High School</td>\n",
       "      <td>90</td>\n",
       "      <td>60</td>\n",
       "      <td>0</td>\n",
       "      <td>District</td>\n",
       "      <td>2917</td>\n",
       "      <td>1910635</td>\n",
       "    </tr>\n",
       "    <tr>\n",
       "      <th>3</th>\n",
       "      <td>3</td>\n",
       "      <td>Dr. Richard Scott</td>\n",
       "      <td>M</td>\n",
       "      <td>12th</td>\n",
       "      <td>Huang High School</td>\n",
       "      <td>67</td>\n",
       "      <td>58</td>\n",
       "      <td>0</td>\n",
       "      <td>District</td>\n",
       "      <td>2917</td>\n",
       "      <td>1910635</td>\n",
       "    </tr>\n",
       "    <tr>\n",
       "      <th>4</th>\n",
       "      <td>4</td>\n",
       "      <td>Bonnie Ray</td>\n",
       "      <td>F</td>\n",
       "      <td>9th</td>\n",
       "      <td>Huang High School</td>\n",
       "      <td>97</td>\n",
       "      <td>84</td>\n",
       "      <td>0</td>\n",
       "      <td>District</td>\n",
       "      <td>2917</td>\n",
       "      <td>1910635</td>\n",
       "    </tr>\n",
       "  </tbody>\n",
       "</table>\n",
       "</div>"
      ],
      "text/plain": [
       "   Student ID       student_name gender grade        school_name  \\\n",
       "0           0       Paul Bradley      M   9th  Huang High School   \n",
       "1           1       Victor Smith      M  12th  Huang High School   \n",
       "2           2    Kevin Rodriguez      M  12th  Huang High School   \n",
       "3           3  Dr. Richard Scott      M  12th  Huang High School   \n",
       "4           4         Bonnie Ray      F   9th  Huang High School   \n",
       "\n",
       "   reading_score  math_score  School ID      type  size   budget  \n",
       "0             66          79          0  District  2917  1910635  \n",
       "1             94          61          0  District  2917  1910635  \n",
       "2             90          60          0  District  2917  1910635  \n",
       "3             67          58          0  District  2917  1910635  \n",
       "4             97          84          0  District  2917  1910635  "
      ]
     },
     "execution_count": 2,
     "metadata": {},
     "output_type": "execute_result"
    }
   ],
   "source": [
    "#read and display dataset\n",
    "school_data_complete.head()"
   ]
  },
  {
   "cell_type": "code",
   "execution_count": 3,
   "metadata": {},
   "outputs": [],
   "source": [
    "#Calculate the total number of schools\n",
    "school_name = school_data_complete['school_name'].unique()\n",
    "total_school = len(school_name)"
   ]
  },
  {
   "cell_type": "code",
   "execution_count": 4,
   "metadata": {},
   "outputs": [
    {
     "data": {
      "text/plain": [
       "39170"
      ]
     },
     "execution_count": 4,
     "metadata": {},
     "output_type": "execute_result"
    }
   ],
   "source": [
    "#Calculate the total number of students\n",
    "total_student = school_data_complete['Student ID'].count()\n",
    "total_student"
   ]
  },
  {
   "cell_type": "code",
   "execution_count": 5,
   "metadata": {},
   "outputs": [
    {
     "data": {
      "text/plain": [
       "24649428"
      ]
     },
     "execution_count": 5,
     "metadata": {},
     "output_type": "execute_result"
    }
   ],
   "source": [
    "#Calculate the total budget\n",
    "budget = school_data_complete.groupby('school_name').budget.mean().sum()\n",
    "budget"
   ]
  },
  {
   "cell_type": "code",
   "execution_count": 6,
   "metadata": {},
   "outputs": [
    {
     "data": {
      "text/plain": [
       "78.98537145774827"
      ]
     },
     "execution_count": 6,
     "metadata": {},
     "output_type": "execute_result"
    }
   ],
   "source": [
    "#Calculate the average math score\n",
    "avrg_math_score = school_data_complete['math_score'].mean()\n",
    "avrg_math_score"
   ]
  },
  {
   "cell_type": "code",
   "execution_count": 7,
   "metadata": {},
   "outputs": [
    {
     "data": {
      "text/plain": [
       "81.87784018381414"
      ]
     },
     "execution_count": 7,
     "metadata": {},
     "output_type": "execute_result"
    }
   ],
   "source": [
    "#Calculate the average reading score\n",
    "avrg_reading_score = school_data_complete['reading_score'].mean()\n",
    "avrg_reading_score"
   ]
  },
  {
   "cell_type": "code",
   "execution_count": 8,
   "metadata": {},
   "outputs": [
    {
     "data": {
      "text/plain": [
       "0.749808526933878"
      ]
     },
     "execution_count": 8,
     "metadata": {},
     "output_type": "execute_result"
    }
   ],
   "source": [
    "#Calculate the percentage of students with a passing math score (70 or greater)\n",
    "avrg_math_pass_total = school_data_complete.loc[school_data_complete['math_score']>=70,:].shape[0]\n",
    "avrg_math_pass =avrg_math_pass_total/total_student\n",
    "avrg_math_pass"
   ]
  },
  {
   "cell_type": "code",
   "execution_count": 9,
   "metadata": {},
   "outputs": [
    {
     "data": {
      "text/plain": [
       "0.8580546336482001"
      ]
     },
     "execution_count": 9,
     "metadata": {},
     "output_type": "execute_result"
    }
   ],
   "source": [
    "#Calculate the percentage of students with a passing reading score (70 or greater)\n",
    "avrg_read_pass_total = school_data_complete.loc[school_data_complete['reading_score']>=70,:].shape[0]\n",
    "avrg_read_pass =avrg_read_pass_total/total_student\n",
    "avrg_read_pass"
   ]
  },
  {
   "cell_type": "code",
   "execution_count": 10,
   "metadata": {},
   "outputs": [
    {
     "data": {
      "text/plain": [
       "0.6517232575950983"
      ]
     },
     "execution_count": 10,
     "metadata": {},
     "output_type": "execute_result"
    }
   ],
   "source": [
    "#Calculate the percentage of students who passed math **and** reading (% Overall Passing)\n",
    "avrg_passall_total = school_data_complete.loc[(school_data_complete['math_score']>=70) & (school_data_complete['reading_score']>=70),:].shape[0]\n",
    "avrg_passall =avrg_passall_total/total_student\n",
    "avrg_passall\n"
   ]
  },
  {
   "cell_type": "code",
   "execution_count": null,
   "metadata": {},
   "outputs": [],
   "source": []
  },
  {
   "cell_type": "code",
   "execution_count": 11,
   "metadata": {},
   "outputs": [],
   "source": [
    "#Create a dataframe to hold the above results\n",
    "Summary_table = pd.DataFrame({'Total Schools':[total_school],\n",
    "                              'Total Students':total_student,\n",
    "                              'Total Budget':budget,\n",
    "                              'Average Math Score':avrg_math_score,\n",
    "                              'Average Reading Score':avrg_reading_score,\n",
    "                              '% Passing Math':avrg_math_pass,\n",
    "                              '% Passing Reading':avrg_read_pass,\n",
    "                              '% Overall Passing':avrg_passall\n",
    "                             })\n"
   ]
  },
  {
   "cell_type": "code",
   "execution_count": 12,
   "metadata": {},
   "outputs": [],
   "source": [
    "#Give the displayed data cleaner formatting"
   ]
  },
  {
   "cell_type": "code",
   "execution_count": 13,
   "metadata": {},
   "outputs": [
    {
     "data": {
      "text/html": [
       "<div>\n",
       "<style scoped>\n",
       "    .dataframe tbody tr th:only-of-type {\n",
       "        vertical-align: middle;\n",
       "    }\n",
       "\n",
       "    .dataframe tbody tr th {\n",
       "        vertical-align: top;\n",
       "    }\n",
       "\n",
       "    .dataframe thead th {\n",
       "        text-align: right;\n",
       "    }\n",
       "</style>\n",
       "<table border=\"1\" class=\"dataframe\">\n",
       "  <thead>\n",
       "    <tr style=\"text-align: right;\">\n",
       "      <th></th>\n",
       "      <th>Total Schools</th>\n",
       "      <th>Total Students</th>\n",
       "      <th>Total Budget</th>\n",
       "      <th>Average Math Score</th>\n",
       "      <th>Average Reading Score</th>\n",
       "      <th>% Passing Math</th>\n",
       "      <th>% Passing Reading</th>\n",
       "      <th>% Overall Passing</th>\n",
       "    </tr>\n",
       "  </thead>\n",
       "  <tbody>\n",
       "    <tr>\n",
       "      <th>0</th>\n",
       "      <td>15</td>\n",
       "      <td>39,170</td>\n",
       "      <td>$24,649,428.00</td>\n",
       "      <td>78.985371</td>\n",
       "      <td>81.87784</td>\n",
       "      <td>74.980853</td>\n",
       "      <td>85.805463</td>\n",
       "      <td>65.172326</td>\n",
       "    </tr>\n",
       "  </tbody>\n",
       "</table>\n",
       "</div>"
      ],
      "text/plain": [
       "   Total Schools Total Students    Total Budget  Average Math Score  \\\n",
       "0             15         39,170  $24,649,428.00           78.985371   \n",
       "\n",
       "   Average Reading Score  % Passing Math  % Passing Reading  % Overall Passing  \n",
       "0               81.87784       74.980853          85.805463          65.172326  "
      ]
     },
     "execution_count": 13,
     "metadata": {},
     "output_type": "execute_result"
    }
   ],
   "source": [
    "Summary_table['Total Students'] = Summary_table['Total Students'].map('{:,}'.format)\n",
    "Summary_table['Total Budget'] = Summary_table['Total Budget'].astype(float).map(\"${:,.2f}\".format)\n",
    "Summary_table['% Passing Math'] = Summary_table['% Passing Math'] *100\n",
    "Summary_table['% Passing Reading'] = Summary_table['% Passing Reading'] *100\n",
    "Summary_table['% Overall Passing'] = Summary_table['% Overall Passing'] *100\n",
    "\n",
    "Summary_table"
   ]
  },
  {
   "cell_type": "code",
   "execution_count": null,
   "metadata": {
    "scrolled": true
   },
   "outputs": [],
   "source": []
  },
  {
   "cell_type": "markdown",
   "metadata": {},
   "source": [
    "## School Summary"
   ]
  },
  {
   "cell_type": "markdown",
   "metadata": {},
   "source": [
    "* Create an overview table that summarizes key metrics about each school, including:\n",
    "  * School Name\n",
    "  * School Type\n",
    "  * Total Students\n",
    "  * Total School Budget\n",
    "  * Per Student Budget\n",
    "  * Average Math Score\n",
    "  * Average Reading Score\n",
    "  * % Passing Math\n",
    "  * % Passing Reading\n",
    "  * % Overall Passing (The percentage of students that passed math **and** reading.)\n",
    "  \n",
    "* Create a dataframe to hold the above results"
   ]
  },
  {
   "cell_type": "code",
   "execution_count": 14,
   "metadata": {},
   "outputs": [],
   "source": [
    "#groupby name \n",
    "new_groupby_name = school_data_complete.groupby(['school_name']).mean()"
   ]
  },
  {
   "cell_type": "code",
   "execution_count": 15,
   "metadata": {},
   "outputs": [],
   "source": [
    "#per student budget\n",
    "new_groupby_name['Per Student Budget'] = new_groupby_name['budget']/new_groupby_name['size']\n"
   ]
  },
  {
   "cell_type": "code",
   "execution_count": 16,
   "metadata": {},
   "outputs": [],
   "source": [
    "#Average Math Score\n",
    "new_groupby_name['Average Math Score'] = new_groupby_name['math_score']"
   ]
  },
  {
   "cell_type": "code",
   "execution_count": 17,
   "metadata": {},
   "outputs": [],
   "source": [
    "#Average Reading Score\n",
    "new_groupby_name['Average Reading Score'] = new_groupby_name['reading_score']\n"
   ]
  },
  {
   "cell_type": "code",
   "execution_count": 18,
   "metadata": {},
   "outputs": [],
   "source": [
    "# creating series and concat them"
   ]
  },
  {
   "cell_type": "code",
   "execution_count": 19,
   "metadata": {},
   "outputs": [
    {
     "data": {
      "text/plain": [
       "school_name\n",
       "Huang High School        District\n",
       "Figueroa High School     District\n",
       "Shelton High School       Charter\n",
       "Hernandez High School    District\n",
       "Griffin High School       Charter\n",
       "Wilson High School        Charter\n",
       "Cabrera High School       Charter\n",
       "Bailey High School       District\n",
       "Holden High School        Charter\n",
       "Pena High School          Charter\n",
       "Wright High School        Charter\n",
       "Rodriguez High School    District\n",
       "Johnson High School      District\n",
       "Ford High School         District\n",
       "Thomas High School        Charter\n",
       "Name: type, dtype: object"
      ]
     },
     "execution_count": 19,
     "metadata": {},
     "output_type": "execute_result"
    }
   ],
   "source": [
    "#type -series\n",
    "new_type = school_data.set_index('school_name')['type']\n",
    "new_type"
   ]
  },
  {
   "cell_type": "code",
   "execution_count": 20,
   "metadata": {},
   "outputs": [
    {
     "data": {
      "text/plain": [
       "school_name\n",
       "Bailey High School       0.666801\n",
       "Cabrera High School      0.941335\n",
       "Figueroa High School     0.659885\n",
       "Ford High School         0.683096\n",
       "Griffin High School      0.933924\n",
       "Hernandez High School    0.667530\n",
       "Holden High School       0.925059\n",
       "Huang High School        0.656839\n",
       "Johnson High School      0.660576\n",
       "Pena High School         0.945946\n",
       "Rodriguez High School    0.663666\n",
       "Shelton High School      0.938671\n",
       "Thomas High School       0.932722\n",
       "Wilson High School       0.938677\n",
       "Wright High School       0.933333\n",
       "Name: size, dtype: float64"
      ]
     },
     "execution_count": 20,
     "metadata": {},
     "output_type": "execute_result"
    }
   ],
   "source": [
    "#% Passing Math - series\n",
    "total_passing_math_per_school = school_data_complete[school_data_complete.math_score>= 70].groupby(['school_name']).count() \n",
    "passing_math_per_school = total_passing_math_per_school['size'] /new_groupby_name['size'] \n",
    "passing_math_per_school"
   ]
  },
  {
   "cell_type": "code",
   "execution_count": null,
   "metadata": {},
   "outputs": [],
   "source": []
  },
  {
   "cell_type": "code",
   "execution_count": 21,
   "metadata": {},
   "outputs": [
    {
     "data": {
      "text/plain": [
       "school_name\n",
       "Bailey High School       0.819333\n",
       "Cabrera High School      0.970398\n",
       "Figueroa High School     0.807392\n",
       "Ford High School         0.792990\n",
       "Griffin High School      0.971390\n",
       "Hernandez High School    0.808630\n",
       "Holden High School       0.962529\n",
       "Huang High School        0.813164\n",
       "Johnson High School      0.812224\n",
       "Pena High School         0.959459\n",
       "Rodriguez High School    0.802201\n",
       "Shelton High School      0.958546\n",
       "Thomas High School       0.973089\n",
       "Wilson High School       0.965396\n",
       "Wright High School       0.966111\n",
       "Name: size, dtype: float64"
      ]
     },
     "execution_count": 21,
     "metadata": {},
     "output_type": "execute_result"
    }
   ],
   "source": [
    "#% Passing reading - series\n",
    "total_passing_reading_per_school = school_data_complete[school_data_complete.reading_score>= 70].groupby(['school_name']).count() \n",
    "passing_reading_per_school = total_passing_reading_per_school['size'] /new_groupby_name['size'] \n",
    "passing_reading_per_school"
   ]
  },
  {
   "cell_type": "code",
   "execution_count": 22,
   "metadata": {},
   "outputs": [
    {
     "data": {
      "text/plain": [
       "school_name\n",
       "Bailey High School       0.546423\n",
       "Cabrera High School      0.913348\n",
       "Figueroa High School     0.532045\n",
       "Ford High School         0.542899\n",
       "Griffin High School      0.905995\n",
       "Hernandez High School    0.535275\n",
       "Holden High School       0.892272\n",
       "Huang High School        0.535139\n",
       "Johnson High School      0.535392\n",
       "Pena High School         0.905405\n",
       "Rodriguez High School    0.529882\n",
       "Shelton High School      0.898921\n",
       "Thomas High School       0.909480\n",
       "Wilson High School       0.905826\n",
       "Wright High School       0.903333\n",
       "Name: size, dtype: float64"
      ]
     },
     "execution_count": 22,
     "metadata": {},
     "output_type": "execute_result"
    }
   ],
   "source": [
    "#overall_passing\n",
    "total_passing_per_school = school_data_complete[(school_data_complete['math_score']>=70) & (school_data_complete['reading_score']>=70)].groupby(['school_name']).count()\n",
    "overall_passing  = total_passing_per_school['size']/new_groupby_name['size']\n",
    "overall_passing"
   ]
  },
  {
   "cell_type": "code",
   "execution_count": 23,
   "metadata": {},
   "outputs": [],
   "source": [
    "# put them together - format\n",
    "new_groupby_name['School Type'] = new_type\n",
    "new_groupby_name['% Passing Math'] = passing_math_per_school *100\n",
    "new_groupby_name['% Passing Reading'] = passing_reading_per_school *100\n",
    "new_groupby_name['% Overall Passing'] = overall_passing *100\n",
    "new_groupby_name['Total Students'] =new_groupby_name['size']\n",
    "new_groupby_name['Total School Budget'] =new_groupby_name['budget']\n"
   ]
  },
  {
   "cell_type": "code",
   "execution_count": null,
   "metadata": {},
   "outputs": [],
   "source": []
  },
  {
   "cell_type": "code",
   "execution_count": 24,
   "metadata": {},
   "outputs": [],
   "source": [
    "#chart summary \n",
    "new_groupby_name = new_groupby_name[['School Type','Total Students','Total School Budget','Per Student Budget','Average Math Score','Average Reading Score','% Passing Math','% Passing Reading','% Overall Passing']]\n"
   ]
  },
  {
   "cell_type": "code",
   "execution_count": 25,
   "metadata": {},
   "outputs": [],
   "source": [
    "#formatting\n",
    "style_format = {'Total Students': '{:.0f}', \n",
    "                          'Total School Budget': '${:,.2f}', \n",
    "                          'Per Student Budget': '${:.2f}',\n",
    "                          'Average Math Score': '{:.6f}', \n",
    "                          'Average Reading Score': '{:.6f}', \n",
    "                          '% Passing Math': '{:.6f}', \n",
    "                          '% Passing Reading': '{:.6f}', \n",
    "                          '% Overall Passing': '{:.6f}'}\n",
    "new_format = new_groupby_name.style.format(style_format)"
   ]
  },
  {
   "cell_type": "code",
   "execution_count": 26,
   "metadata": {},
   "outputs": [
    {
     "data": {
      "text/html": [
       "<style  type=\"text/css\" >\n",
       "</style><table id=\"T_bebfd_\" ><thead>    <tr>        <th class=\"blank level0\" ></th>        <th class=\"col_heading level0 col0\" >School Type</th>        <th class=\"col_heading level0 col1\" >Total Students</th>        <th class=\"col_heading level0 col2\" >Total School Budget</th>        <th class=\"col_heading level0 col3\" >Per Student Budget</th>        <th class=\"col_heading level0 col4\" >Average Math Score</th>        <th class=\"col_heading level0 col5\" >Average Reading Score</th>        <th class=\"col_heading level0 col6\" >% Passing Math</th>        <th class=\"col_heading level0 col7\" >% Passing Reading</th>        <th class=\"col_heading level0 col8\" >% Overall Passing</th>    </tr>    <tr>        <th class=\"index_name level0\" >school_name</th>        <th class=\"blank\" ></th>        <th class=\"blank\" ></th>        <th class=\"blank\" ></th>        <th class=\"blank\" ></th>        <th class=\"blank\" ></th>        <th class=\"blank\" ></th>        <th class=\"blank\" ></th>        <th class=\"blank\" ></th>        <th class=\"blank\" ></th>    </tr></thead><tbody>\n",
       "                <tr>\n",
       "                        <th id=\"T_bebfd_level0_row0\" class=\"row_heading level0 row0\" >Bailey High School</th>\n",
       "                        <td id=\"T_bebfd_row0_col0\" class=\"data row0 col0\" >District</td>\n",
       "                        <td id=\"T_bebfd_row0_col1\" class=\"data row0 col1\" >4976</td>\n",
       "                        <td id=\"T_bebfd_row0_col2\" class=\"data row0 col2\" >$3,124,928.00</td>\n",
       "                        <td id=\"T_bebfd_row0_col3\" class=\"data row0 col3\" >$628.00</td>\n",
       "                        <td id=\"T_bebfd_row0_col4\" class=\"data row0 col4\" >77.048432</td>\n",
       "                        <td id=\"T_bebfd_row0_col5\" class=\"data row0 col5\" >81.033963</td>\n",
       "                        <td id=\"T_bebfd_row0_col6\" class=\"data row0 col6\" >66.680064</td>\n",
       "                        <td id=\"T_bebfd_row0_col7\" class=\"data row0 col7\" >81.933280</td>\n",
       "                        <td id=\"T_bebfd_row0_col8\" class=\"data row0 col8\" >54.642283</td>\n",
       "            </tr>\n",
       "            <tr>\n",
       "                        <th id=\"T_bebfd_level0_row1\" class=\"row_heading level0 row1\" >Cabrera High School</th>\n",
       "                        <td id=\"T_bebfd_row1_col0\" class=\"data row1 col0\" >Charter</td>\n",
       "                        <td id=\"T_bebfd_row1_col1\" class=\"data row1 col1\" >1858</td>\n",
       "                        <td id=\"T_bebfd_row1_col2\" class=\"data row1 col2\" >$1,081,356.00</td>\n",
       "                        <td id=\"T_bebfd_row1_col3\" class=\"data row1 col3\" >$582.00</td>\n",
       "                        <td id=\"T_bebfd_row1_col4\" class=\"data row1 col4\" >83.061895</td>\n",
       "                        <td id=\"T_bebfd_row1_col5\" class=\"data row1 col5\" >83.975780</td>\n",
       "                        <td id=\"T_bebfd_row1_col6\" class=\"data row1 col6\" >94.133477</td>\n",
       "                        <td id=\"T_bebfd_row1_col7\" class=\"data row1 col7\" >97.039828</td>\n",
       "                        <td id=\"T_bebfd_row1_col8\" class=\"data row1 col8\" >91.334769</td>\n",
       "            </tr>\n",
       "            <tr>\n",
       "                        <th id=\"T_bebfd_level0_row2\" class=\"row_heading level0 row2\" >Figueroa High School</th>\n",
       "                        <td id=\"T_bebfd_row2_col0\" class=\"data row2 col0\" >District</td>\n",
       "                        <td id=\"T_bebfd_row2_col1\" class=\"data row2 col1\" >2949</td>\n",
       "                        <td id=\"T_bebfd_row2_col2\" class=\"data row2 col2\" >$1,884,411.00</td>\n",
       "                        <td id=\"T_bebfd_row2_col3\" class=\"data row2 col3\" >$639.00</td>\n",
       "                        <td id=\"T_bebfd_row2_col4\" class=\"data row2 col4\" >76.711767</td>\n",
       "                        <td id=\"T_bebfd_row2_col5\" class=\"data row2 col5\" >81.158020</td>\n",
       "                        <td id=\"T_bebfd_row2_col6\" class=\"data row2 col6\" >65.988471</td>\n",
       "                        <td id=\"T_bebfd_row2_col7\" class=\"data row2 col7\" >80.739234</td>\n",
       "                        <td id=\"T_bebfd_row2_col8\" class=\"data row2 col8\" >53.204476</td>\n",
       "            </tr>\n",
       "            <tr>\n",
       "                        <th id=\"T_bebfd_level0_row3\" class=\"row_heading level0 row3\" >Ford High School</th>\n",
       "                        <td id=\"T_bebfd_row3_col0\" class=\"data row3 col0\" >District</td>\n",
       "                        <td id=\"T_bebfd_row3_col1\" class=\"data row3 col1\" >2739</td>\n",
       "                        <td id=\"T_bebfd_row3_col2\" class=\"data row3 col2\" >$1,763,916.00</td>\n",
       "                        <td id=\"T_bebfd_row3_col3\" class=\"data row3 col3\" >$644.00</td>\n",
       "                        <td id=\"T_bebfd_row3_col4\" class=\"data row3 col4\" >77.102592</td>\n",
       "                        <td id=\"T_bebfd_row3_col5\" class=\"data row3 col5\" >80.746258</td>\n",
       "                        <td id=\"T_bebfd_row3_col6\" class=\"data row3 col6\" >68.309602</td>\n",
       "                        <td id=\"T_bebfd_row3_col7\" class=\"data row3 col7\" >79.299014</td>\n",
       "                        <td id=\"T_bebfd_row3_col8\" class=\"data row3 col8\" >54.289887</td>\n",
       "            </tr>\n",
       "            <tr>\n",
       "                        <th id=\"T_bebfd_level0_row4\" class=\"row_heading level0 row4\" >Griffin High School</th>\n",
       "                        <td id=\"T_bebfd_row4_col0\" class=\"data row4 col0\" >Charter</td>\n",
       "                        <td id=\"T_bebfd_row4_col1\" class=\"data row4 col1\" >1468</td>\n",
       "                        <td id=\"T_bebfd_row4_col2\" class=\"data row4 col2\" >$917,500.00</td>\n",
       "                        <td id=\"T_bebfd_row4_col3\" class=\"data row4 col3\" >$625.00</td>\n",
       "                        <td id=\"T_bebfd_row4_col4\" class=\"data row4 col4\" >83.351499</td>\n",
       "                        <td id=\"T_bebfd_row4_col5\" class=\"data row4 col5\" >83.816757</td>\n",
       "                        <td id=\"T_bebfd_row4_col6\" class=\"data row4 col6\" >93.392371</td>\n",
       "                        <td id=\"T_bebfd_row4_col7\" class=\"data row4 col7\" >97.138965</td>\n",
       "                        <td id=\"T_bebfd_row4_col8\" class=\"data row4 col8\" >90.599455</td>\n",
       "            </tr>\n",
       "            <tr>\n",
       "                        <th id=\"T_bebfd_level0_row5\" class=\"row_heading level0 row5\" >Hernandez High School</th>\n",
       "                        <td id=\"T_bebfd_row5_col0\" class=\"data row5 col0\" >District</td>\n",
       "                        <td id=\"T_bebfd_row5_col1\" class=\"data row5 col1\" >4635</td>\n",
       "                        <td id=\"T_bebfd_row5_col2\" class=\"data row5 col2\" >$3,022,020.00</td>\n",
       "                        <td id=\"T_bebfd_row5_col3\" class=\"data row5 col3\" >$652.00</td>\n",
       "                        <td id=\"T_bebfd_row5_col4\" class=\"data row5 col4\" >77.289752</td>\n",
       "                        <td id=\"T_bebfd_row5_col5\" class=\"data row5 col5\" >80.934412</td>\n",
       "                        <td id=\"T_bebfd_row5_col6\" class=\"data row5 col6\" >66.752967</td>\n",
       "                        <td id=\"T_bebfd_row5_col7\" class=\"data row5 col7\" >80.862999</td>\n",
       "                        <td id=\"T_bebfd_row5_col8\" class=\"data row5 col8\" >53.527508</td>\n",
       "            </tr>\n",
       "            <tr>\n",
       "                        <th id=\"T_bebfd_level0_row6\" class=\"row_heading level0 row6\" >Holden High School</th>\n",
       "                        <td id=\"T_bebfd_row6_col0\" class=\"data row6 col0\" >Charter</td>\n",
       "                        <td id=\"T_bebfd_row6_col1\" class=\"data row6 col1\" >427</td>\n",
       "                        <td id=\"T_bebfd_row6_col2\" class=\"data row6 col2\" >$248,087.00</td>\n",
       "                        <td id=\"T_bebfd_row6_col3\" class=\"data row6 col3\" >$581.00</td>\n",
       "                        <td id=\"T_bebfd_row6_col4\" class=\"data row6 col4\" >83.803279</td>\n",
       "                        <td id=\"T_bebfd_row6_col5\" class=\"data row6 col5\" >83.814988</td>\n",
       "                        <td id=\"T_bebfd_row6_col6\" class=\"data row6 col6\" >92.505855</td>\n",
       "                        <td id=\"T_bebfd_row6_col7\" class=\"data row6 col7\" >96.252927</td>\n",
       "                        <td id=\"T_bebfd_row6_col8\" class=\"data row6 col8\" >89.227166</td>\n",
       "            </tr>\n",
       "            <tr>\n",
       "                        <th id=\"T_bebfd_level0_row7\" class=\"row_heading level0 row7\" >Huang High School</th>\n",
       "                        <td id=\"T_bebfd_row7_col0\" class=\"data row7 col0\" >District</td>\n",
       "                        <td id=\"T_bebfd_row7_col1\" class=\"data row7 col1\" >2917</td>\n",
       "                        <td id=\"T_bebfd_row7_col2\" class=\"data row7 col2\" >$1,910,635.00</td>\n",
       "                        <td id=\"T_bebfd_row7_col3\" class=\"data row7 col3\" >$655.00</td>\n",
       "                        <td id=\"T_bebfd_row7_col4\" class=\"data row7 col4\" >76.629414</td>\n",
       "                        <td id=\"T_bebfd_row7_col5\" class=\"data row7 col5\" >81.182722</td>\n",
       "                        <td id=\"T_bebfd_row7_col6\" class=\"data row7 col6\" >65.683922</td>\n",
       "                        <td id=\"T_bebfd_row7_col7\" class=\"data row7 col7\" >81.316421</td>\n",
       "                        <td id=\"T_bebfd_row7_col8\" class=\"data row7 col8\" >53.513884</td>\n",
       "            </tr>\n",
       "            <tr>\n",
       "                        <th id=\"T_bebfd_level0_row8\" class=\"row_heading level0 row8\" >Johnson High School</th>\n",
       "                        <td id=\"T_bebfd_row8_col0\" class=\"data row8 col0\" >District</td>\n",
       "                        <td id=\"T_bebfd_row8_col1\" class=\"data row8 col1\" >4761</td>\n",
       "                        <td id=\"T_bebfd_row8_col2\" class=\"data row8 col2\" >$3,094,650.00</td>\n",
       "                        <td id=\"T_bebfd_row8_col3\" class=\"data row8 col3\" >$650.00</td>\n",
       "                        <td id=\"T_bebfd_row8_col4\" class=\"data row8 col4\" >77.072464</td>\n",
       "                        <td id=\"T_bebfd_row8_col5\" class=\"data row8 col5\" >80.966394</td>\n",
       "                        <td id=\"T_bebfd_row8_col6\" class=\"data row8 col6\" >66.057551</td>\n",
       "                        <td id=\"T_bebfd_row8_col7\" class=\"data row8 col7\" >81.222432</td>\n",
       "                        <td id=\"T_bebfd_row8_col8\" class=\"data row8 col8\" >53.539172</td>\n",
       "            </tr>\n",
       "            <tr>\n",
       "                        <th id=\"T_bebfd_level0_row9\" class=\"row_heading level0 row9\" >Pena High School</th>\n",
       "                        <td id=\"T_bebfd_row9_col0\" class=\"data row9 col0\" >Charter</td>\n",
       "                        <td id=\"T_bebfd_row9_col1\" class=\"data row9 col1\" >962</td>\n",
       "                        <td id=\"T_bebfd_row9_col2\" class=\"data row9 col2\" >$585,858.00</td>\n",
       "                        <td id=\"T_bebfd_row9_col3\" class=\"data row9 col3\" >$609.00</td>\n",
       "                        <td id=\"T_bebfd_row9_col4\" class=\"data row9 col4\" >83.839917</td>\n",
       "                        <td id=\"T_bebfd_row9_col5\" class=\"data row9 col5\" >84.044699</td>\n",
       "                        <td id=\"T_bebfd_row9_col6\" class=\"data row9 col6\" >94.594595</td>\n",
       "                        <td id=\"T_bebfd_row9_col7\" class=\"data row9 col7\" >95.945946</td>\n",
       "                        <td id=\"T_bebfd_row9_col8\" class=\"data row9 col8\" >90.540541</td>\n",
       "            </tr>\n",
       "            <tr>\n",
       "                        <th id=\"T_bebfd_level0_row10\" class=\"row_heading level0 row10\" >Rodriguez High School</th>\n",
       "                        <td id=\"T_bebfd_row10_col0\" class=\"data row10 col0\" >District</td>\n",
       "                        <td id=\"T_bebfd_row10_col1\" class=\"data row10 col1\" >3999</td>\n",
       "                        <td id=\"T_bebfd_row10_col2\" class=\"data row10 col2\" >$2,547,363.00</td>\n",
       "                        <td id=\"T_bebfd_row10_col3\" class=\"data row10 col3\" >$637.00</td>\n",
       "                        <td id=\"T_bebfd_row10_col4\" class=\"data row10 col4\" >76.842711</td>\n",
       "                        <td id=\"T_bebfd_row10_col5\" class=\"data row10 col5\" >80.744686</td>\n",
       "                        <td id=\"T_bebfd_row10_col6\" class=\"data row10 col6\" >66.366592</td>\n",
       "                        <td id=\"T_bebfd_row10_col7\" class=\"data row10 col7\" >80.220055</td>\n",
       "                        <td id=\"T_bebfd_row10_col8\" class=\"data row10 col8\" >52.988247</td>\n",
       "            </tr>\n",
       "            <tr>\n",
       "                        <th id=\"T_bebfd_level0_row11\" class=\"row_heading level0 row11\" >Shelton High School</th>\n",
       "                        <td id=\"T_bebfd_row11_col0\" class=\"data row11 col0\" >Charter</td>\n",
       "                        <td id=\"T_bebfd_row11_col1\" class=\"data row11 col1\" >1761</td>\n",
       "                        <td id=\"T_bebfd_row11_col2\" class=\"data row11 col2\" >$1,056,600.00</td>\n",
       "                        <td id=\"T_bebfd_row11_col3\" class=\"data row11 col3\" >$600.00</td>\n",
       "                        <td id=\"T_bebfd_row11_col4\" class=\"data row11 col4\" >83.359455</td>\n",
       "                        <td id=\"T_bebfd_row11_col5\" class=\"data row11 col5\" >83.725724</td>\n",
       "                        <td id=\"T_bebfd_row11_col6\" class=\"data row11 col6\" >93.867121</td>\n",
       "                        <td id=\"T_bebfd_row11_col7\" class=\"data row11 col7\" >95.854628</td>\n",
       "                        <td id=\"T_bebfd_row11_col8\" class=\"data row11 col8\" >89.892107</td>\n",
       "            </tr>\n",
       "            <tr>\n",
       "                        <th id=\"T_bebfd_level0_row12\" class=\"row_heading level0 row12\" >Thomas High School</th>\n",
       "                        <td id=\"T_bebfd_row12_col0\" class=\"data row12 col0\" >Charter</td>\n",
       "                        <td id=\"T_bebfd_row12_col1\" class=\"data row12 col1\" >1635</td>\n",
       "                        <td id=\"T_bebfd_row12_col2\" class=\"data row12 col2\" >$1,043,130.00</td>\n",
       "                        <td id=\"T_bebfd_row12_col3\" class=\"data row12 col3\" >$638.00</td>\n",
       "                        <td id=\"T_bebfd_row12_col4\" class=\"data row12 col4\" >83.418349</td>\n",
       "                        <td id=\"T_bebfd_row12_col5\" class=\"data row12 col5\" >83.848930</td>\n",
       "                        <td id=\"T_bebfd_row12_col6\" class=\"data row12 col6\" >93.272171</td>\n",
       "                        <td id=\"T_bebfd_row12_col7\" class=\"data row12 col7\" >97.308869</td>\n",
       "                        <td id=\"T_bebfd_row12_col8\" class=\"data row12 col8\" >90.948012</td>\n",
       "            </tr>\n",
       "            <tr>\n",
       "                        <th id=\"T_bebfd_level0_row13\" class=\"row_heading level0 row13\" >Wilson High School</th>\n",
       "                        <td id=\"T_bebfd_row13_col0\" class=\"data row13 col0\" >Charter</td>\n",
       "                        <td id=\"T_bebfd_row13_col1\" class=\"data row13 col1\" >2283</td>\n",
       "                        <td id=\"T_bebfd_row13_col2\" class=\"data row13 col2\" >$1,319,574.00</td>\n",
       "                        <td id=\"T_bebfd_row13_col3\" class=\"data row13 col3\" >$578.00</td>\n",
       "                        <td id=\"T_bebfd_row13_col4\" class=\"data row13 col4\" >83.274201</td>\n",
       "                        <td id=\"T_bebfd_row13_col5\" class=\"data row13 col5\" >83.989488</td>\n",
       "                        <td id=\"T_bebfd_row13_col6\" class=\"data row13 col6\" >93.867718</td>\n",
       "                        <td id=\"T_bebfd_row13_col7\" class=\"data row13 col7\" >96.539641</td>\n",
       "                        <td id=\"T_bebfd_row13_col8\" class=\"data row13 col8\" >90.582567</td>\n",
       "            </tr>\n",
       "            <tr>\n",
       "                        <th id=\"T_bebfd_level0_row14\" class=\"row_heading level0 row14\" >Wright High School</th>\n",
       "                        <td id=\"T_bebfd_row14_col0\" class=\"data row14 col0\" >Charter</td>\n",
       "                        <td id=\"T_bebfd_row14_col1\" class=\"data row14 col1\" >1800</td>\n",
       "                        <td id=\"T_bebfd_row14_col2\" class=\"data row14 col2\" >$1,049,400.00</td>\n",
       "                        <td id=\"T_bebfd_row14_col3\" class=\"data row14 col3\" >$583.00</td>\n",
       "                        <td id=\"T_bebfd_row14_col4\" class=\"data row14 col4\" >83.682222</td>\n",
       "                        <td id=\"T_bebfd_row14_col5\" class=\"data row14 col5\" >83.955000</td>\n",
       "                        <td id=\"T_bebfd_row14_col6\" class=\"data row14 col6\" >93.333333</td>\n",
       "                        <td id=\"T_bebfd_row14_col7\" class=\"data row14 col7\" >96.611111</td>\n",
       "                        <td id=\"T_bebfd_row14_col8\" class=\"data row14 col8\" >90.333333</td>\n",
       "            </tr>\n",
       "    </tbody></table>"
      ],
      "text/plain": [
       "<pandas.io.formats.style.Styler at 0x7fa3e103f490>"
      ]
     },
     "execution_count": 26,
     "metadata": {},
     "output_type": "execute_result"
    }
   ],
   "source": [
    "new_format"
   ]
  },
  {
   "cell_type": "code",
   "execution_count": null,
   "metadata": {},
   "outputs": [],
   "source": []
  },
  {
   "cell_type": "markdown",
   "metadata": {},
   "source": [
    "## Top Performing Schools (By % Overall Passing)"
   ]
  },
  {
   "cell_type": "markdown",
   "metadata": {},
   "source": [
    "* Sort and display the top five performing schools by % overall passing."
   ]
  },
  {
   "cell_type": "code",
   "execution_count": 27,
   "metadata": {},
   "outputs": [
    {
     "data": {
      "text/html": [
       "<style  type=\"text/css\" >\n",
       "</style><table id=\"T_ded5e_\" ><thead>    <tr>        <th class=\"blank level0\" ></th>        <th class=\"col_heading level0 col0\" >School Type</th>        <th class=\"col_heading level0 col1\" >Total Students</th>        <th class=\"col_heading level0 col2\" >Total School Budget</th>        <th class=\"col_heading level0 col3\" >Per Student Budget</th>        <th class=\"col_heading level0 col4\" >Average Math Score</th>        <th class=\"col_heading level0 col5\" >Average Reading Score</th>        <th class=\"col_heading level0 col6\" >% Passing Math</th>        <th class=\"col_heading level0 col7\" >% Passing Reading</th>        <th class=\"col_heading level0 col8\" >% Overall Passing</th>    </tr>    <tr>        <th class=\"index_name level0\" >school_name</th>        <th class=\"blank\" ></th>        <th class=\"blank\" ></th>        <th class=\"blank\" ></th>        <th class=\"blank\" ></th>        <th class=\"blank\" ></th>        <th class=\"blank\" ></th>        <th class=\"blank\" ></th>        <th class=\"blank\" ></th>        <th class=\"blank\" ></th>    </tr></thead><tbody>\n",
       "                <tr>\n",
       "                        <th id=\"T_ded5e_level0_row0\" class=\"row_heading level0 row0\" >Cabrera High School</th>\n",
       "                        <td id=\"T_ded5e_row0_col0\" class=\"data row0 col0\" >Charter</td>\n",
       "                        <td id=\"T_ded5e_row0_col1\" class=\"data row0 col1\" >1858</td>\n",
       "                        <td id=\"T_ded5e_row0_col2\" class=\"data row0 col2\" >$1,081,356.00</td>\n",
       "                        <td id=\"T_ded5e_row0_col3\" class=\"data row0 col3\" >$582.00</td>\n",
       "                        <td id=\"T_ded5e_row0_col4\" class=\"data row0 col4\" >83.061895</td>\n",
       "                        <td id=\"T_ded5e_row0_col5\" class=\"data row0 col5\" >83.975780</td>\n",
       "                        <td id=\"T_ded5e_row0_col6\" class=\"data row0 col6\" >94.133477</td>\n",
       "                        <td id=\"T_ded5e_row0_col7\" class=\"data row0 col7\" >97.039828</td>\n",
       "                        <td id=\"T_ded5e_row0_col8\" class=\"data row0 col8\" >91.334769</td>\n",
       "            </tr>\n",
       "            <tr>\n",
       "                        <th id=\"T_ded5e_level0_row1\" class=\"row_heading level0 row1\" >Thomas High School</th>\n",
       "                        <td id=\"T_ded5e_row1_col0\" class=\"data row1 col0\" >Charter</td>\n",
       "                        <td id=\"T_ded5e_row1_col1\" class=\"data row1 col1\" >1635</td>\n",
       "                        <td id=\"T_ded5e_row1_col2\" class=\"data row1 col2\" >$1,043,130.00</td>\n",
       "                        <td id=\"T_ded5e_row1_col3\" class=\"data row1 col3\" >$638.00</td>\n",
       "                        <td id=\"T_ded5e_row1_col4\" class=\"data row1 col4\" >83.418349</td>\n",
       "                        <td id=\"T_ded5e_row1_col5\" class=\"data row1 col5\" >83.848930</td>\n",
       "                        <td id=\"T_ded5e_row1_col6\" class=\"data row1 col6\" >93.272171</td>\n",
       "                        <td id=\"T_ded5e_row1_col7\" class=\"data row1 col7\" >97.308869</td>\n",
       "                        <td id=\"T_ded5e_row1_col8\" class=\"data row1 col8\" >90.948012</td>\n",
       "            </tr>\n",
       "            <tr>\n",
       "                        <th id=\"T_ded5e_level0_row2\" class=\"row_heading level0 row2\" >Griffin High School</th>\n",
       "                        <td id=\"T_ded5e_row2_col0\" class=\"data row2 col0\" >Charter</td>\n",
       "                        <td id=\"T_ded5e_row2_col1\" class=\"data row2 col1\" >1468</td>\n",
       "                        <td id=\"T_ded5e_row2_col2\" class=\"data row2 col2\" >$917,500.00</td>\n",
       "                        <td id=\"T_ded5e_row2_col3\" class=\"data row2 col3\" >$625.00</td>\n",
       "                        <td id=\"T_ded5e_row2_col4\" class=\"data row2 col4\" >83.351499</td>\n",
       "                        <td id=\"T_ded5e_row2_col5\" class=\"data row2 col5\" >83.816757</td>\n",
       "                        <td id=\"T_ded5e_row2_col6\" class=\"data row2 col6\" >93.392371</td>\n",
       "                        <td id=\"T_ded5e_row2_col7\" class=\"data row2 col7\" >97.138965</td>\n",
       "                        <td id=\"T_ded5e_row2_col8\" class=\"data row2 col8\" >90.599455</td>\n",
       "            </tr>\n",
       "            <tr>\n",
       "                        <th id=\"T_ded5e_level0_row3\" class=\"row_heading level0 row3\" >Wilson High School</th>\n",
       "                        <td id=\"T_ded5e_row3_col0\" class=\"data row3 col0\" >Charter</td>\n",
       "                        <td id=\"T_ded5e_row3_col1\" class=\"data row3 col1\" >2283</td>\n",
       "                        <td id=\"T_ded5e_row3_col2\" class=\"data row3 col2\" >$1,319,574.00</td>\n",
       "                        <td id=\"T_ded5e_row3_col3\" class=\"data row3 col3\" >$578.00</td>\n",
       "                        <td id=\"T_ded5e_row3_col4\" class=\"data row3 col4\" >83.274201</td>\n",
       "                        <td id=\"T_ded5e_row3_col5\" class=\"data row3 col5\" >83.989488</td>\n",
       "                        <td id=\"T_ded5e_row3_col6\" class=\"data row3 col6\" >93.867718</td>\n",
       "                        <td id=\"T_ded5e_row3_col7\" class=\"data row3 col7\" >96.539641</td>\n",
       "                        <td id=\"T_ded5e_row3_col8\" class=\"data row3 col8\" >90.582567</td>\n",
       "            </tr>\n",
       "            <tr>\n",
       "                        <th id=\"T_ded5e_level0_row4\" class=\"row_heading level0 row4\" >Pena High School</th>\n",
       "                        <td id=\"T_ded5e_row4_col0\" class=\"data row4 col0\" >Charter</td>\n",
       "                        <td id=\"T_ded5e_row4_col1\" class=\"data row4 col1\" >962</td>\n",
       "                        <td id=\"T_ded5e_row4_col2\" class=\"data row4 col2\" >$585,858.00</td>\n",
       "                        <td id=\"T_ded5e_row4_col3\" class=\"data row4 col3\" >$609.00</td>\n",
       "                        <td id=\"T_ded5e_row4_col4\" class=\"data row4 col4\" >83.839917</td>\n",
       "                        <td id=\"T_ded5e_row4_col5\" class=\"data row4 col5\" >84.044699</td>\n",
       "                        <td id=\"T_ded5e_row4_col6\" class=\"data row4 col6\" >94.594595</td>\n",
       "                        <td id=\"T_ded5e_row4_col7\" class=\"data row4 col7\" >95.945946</td>\n",
       "                        <td id=\"T_ded5e_row4_col8\" class=\"data row4 col8\" >90.540541</td>\n",
       "            </tr>\n",
       "    </tbody></table>"
      ],
      "text/plain": [
       "<pandas.io.formats.style.Styler at 0x7fa3e3507e20>"
      ]
     },
     "execution_count": 27,
     "metadata": {},
     "output_type": "execute_result"
    }
   ],
   "source": [
    "#sorting with decending order\n",
    "sort_top_overall = new_groupby_name.sort_values('% Overall Passing', ascending=False).head()\n",
    "#formatting again\n",
    "sort_top_overall.style.format(style_format)"
   ]
  },
  {
   "cell_type": "code",
   "execution_count": null,
   "metadata": {},
   "outputs": [],
   "source": []
  },
  {
   "cell_type": "code",
   "execution_count": null,
   "metadata": {
    "scrolled": true
   },
   "outputs": [],
   "source": []
  },
  {
   "cell_type": "markdown",
   "metadata": {},
   "source": [
    "## Bottom Performing Schools (By % Overall Passing)"
   ]
  },
  {
   "cell_type": "markdown",
   "metadata": {},
   "source": [
    "* Sort and display the five worst-performing schools by % overall passing."
   ]
  },
  {
   "cell_type": "code",
   "execution_count": 28,
   "metadata": {},
   "outputs": [
    {
     "data": {
      "text/html": [
       "<style  type=\"text/css\" >\n",
       "</style><table id=\"T_48698_\" ><thead>    <tr>        <th class=\"blank level0\" ></th>        <th class=\"col_heading level0 col0\" >School Type</th>        <th class=\"col_heading level0 col1\" >Total Students</th>        <th class=\"col_heading level0 col2\" >Total School Budget</th>        <th class=\"col_heading level0 col3\" >Per Student Budget</th>        <th class=\"col_heading level0 col4\" >Average Math Score</th>        <th class=\"col_heading level0 col5\" >Average Reading Score</th>        <th class=\"col_heading level0 col6\" >% Passing Math</th>        <th class=\"col_heading level0 col7\" >% Passing Reading</th>        <th class=\"col_heading level0 col8\" >% Overall Passing</th>    </tr>    <tr>        <th class=\"index_name level0\" >school_name</th>        <th class=\"blank\" ></th>        <th class=\"blank\" ></th>        <th class=\"blank\" ></th>        <th class=\"blank\" ></th>        <th class=\"blank\" ></th>        <th class=\"blank\" ></th>        <th class=\"blank\" ></th>        <th class=\"blank\" ></th>        <th class=\"blank\" ></th>    </tr></thead><tbody>\n",
       "                <tr>\n",
       "                        <th id=\"T_48698_level0_row0\" class=\"row_heading level0 row0\" >Rodriguez High School</th>\n",
       "                        <td id=\"T_48698_row0_col0\" class=\"data row0 col0\" >District</td>\n",
       "                        <td id=\"T_48698_row0_col1\" class=\"data row0 col1\" >3999</td>\n",
       "                        <td id=\"T_48698_row0_col2\" class=\"data row0 col2\" >$2,547,363.00</td>\n",
       "                        <td id=\"T_48698_row0_col3\" class=\"data row0 col3\" >$637.00</td>\n",
       "                        <td id=\"T_48698_row0_col4\" class=\"data row0 col4\" >76.842711</td>\n",
       "                        <td id=\"T_48698_row0_col5\" class=\"data row0 col5\" >80.744686</td>\n",
       "                        <td id=\"T_48698_row0_col6\" class=\"data row0 col6\" >66.366592</td>\n",
       "                        <td id=\"T_48698_row0_col7\" class=\"data row0 col7\" >80.220055</td>\n",
       "                        <td id=\"T_48698_row0_col8\" class=\"data row0 col8\" >52.988247</td>\n",
       "            </tr>\n",
       "            <tr>\n",
       "                        <th id=\"T_48698_level0_row1\" class=\"row_heading level0 row1\" >Figueroa High School</th>\n",
       "                        <td id=\"T_48698_row1_col0\" class=\"data row1 col0\" >District</td>\n",
       "                        <td id=\"T_48698_row1_col1\" class=\"data row1 col1\" >2949</td>\n",
       "                        <td id=\"T_48698_row1_col2\" class=\"data row1 col2\" >$1,884,411.00</td>\n",
       "                        <td id=\"T_48698_row1_col3\" class=\"data row1 col3\" >$639.00</td>\n",
       "                        <td id=\"T_48698_row1_col4\" class=\"data row1 col4\" >76.711767</td>\n",
       "                        <td id=\"T_48698_row1_col5\" class=\"data row1 col5\" >81.158020</td>\n",
       "                        <td id=\"T_48698_row1_col6\" class=\"data row1 col6\" >65.988471</td>\n",
       "                        <td id=\"T_48698_row1_col7\" class=\"data row1 col7\" >80.739234</td>\n",
       "                        <td id=\"T_48698_row1_col8\" class=\"data row1 col8\" >53.204476</td>\n",
       "            </tr>\n",
       "            <tr>\n",
       "                        <th id=\"T_48698_level0_row2\" class=\"row_heading level0 row2\" >Huang High School</th>\n",
       "                        <td id=\"T_48698_row2_col0\" class=\"data row2 col0\" >District</td>\n",
       "                        <td id=\"T_48698_row2_col1\" class=\"data row2 col1\" >2917</td>\n",
       "                        <td id=\"T_48698_row2_col2\" class=\"data row2 col2\" >$1,910,635.00</td>\n",
       "                        <td id=\"T_48698_row2_col3\" class=\"data row2 col3\" >$655.00</td>\n",
       "                        <td id=\"T_48698_row2_col4\" class=\"data row2 col4\" >76.629414</td>\n",
       "                        <td id=\"T_48698_row2_col5\" class=\"data row2 col5\" >81.182722</td>\n",
       "                        <td id=\"T_48698_row2_col6\" class=\"data row2 col6\" >65.683922</td>\n",
       "                        <td id=\"T_48698_row2_col7\" class=\"data row2 col7\" >81.316421</td>\n",
       "                        <td id=\"T_48698_row2_col8\" class=\"data row2 col8\" >53.513884</td>\n",
       "            </tr>\n",
       "            <tr>\n",
       "                        <th id=\"T_48698_level0_row3\" class=\"row_heading level0 row3\" >Hernandez High School</th>\n",
       "                        <td id=\"T_48698_row3_col0\" class=\"data row3 col0\" >District</td>\n",
       "                        <td id=\"T_48698_row3_col1\" class=\"data row3 col1\" >4635</td>\n",
       "                        <td id=\"T_48698_row3_col2\" class=\"data row3 col2\" >$3,022,020.00</td>\n",
       "                        <td id=\"T_48698_row3_col3\" class=\"data row3 col3\" >$652.00</td>\n",
       "                        <td id=\"T_48698_row3_col4\" class=\"data row3 col4\" >77.289752</td>\n",
       "                        <td id=\"T_48698_row3_col5\" class=\"data row3 col5\" >80.934412</td>\n",
       "                        <td id=\"T_48698_row3_col6\" class=\"data row3 col6\" >66.752967</td>\n",
       "                        <td id=\"T_48698_row3_col7\" class=\"data row3 col7\" >80.862999</td>\n",
       "                        <td id=\"T_48698_row3_col8\" class=\"data row3 col8\" >53.527508</td>\n",
       "            </tr>\n",
       "            <tr>\n",
       "                        <th id=\"T_48698_level0_row4\" class=\"row_heading level0 row4\" >Johnson High School</th>\n",
       "                        <td id=\"T_48698_row4_col0\" class=\"data row4 col0\" >District</td>\n",
       "                        <td id=\"T_48698_row4_col1\" class=\"data row4 col1\" >4761</td>\n",
       "                        <td id=\"T_48698_row4_col2\" class=\"data row4 col2\" >$3,094,650.00</td>\n",
       "                        <td id=\"T_48698_row4_col3\" class=\"data row4 col3\" >$650.00</td>\n",
       "                        <td id=\"T_48698_row4_col4\" class=\"data row4 col4\" >77.072464</td>\n",
       "                        <td id=\"T_48698_row4_col5\" class=\"data row4 col5\" >80.966394</td>\n",
       "                        <td id=\"T_48698_row4_col6\" class=\"data row4 col6\" >66.057551</td>\n",
       "                        <td id=\"T_48698_row4_col7\" class=\"data row4 col7\" >81.222432</td>\n",
       "                        <td id=\"T_48698_row4_col8\" class=\"data row4 col8\" >53.539172</td>\n",
       "            </tr>\n",
       "    </tbody></table>"
      ],
      "text/plain": [
       "<pandas.io.formats.style.Styler at 0x7fa3e34e9f40>"
      ]
     },
     "execution_count": 28,
     "metadata": {},
     "output_type": "execute_result"
    }
   ],
   "source": [
    "sort_top_overall = new_groupby_name.sort_values('% Overall Passing', ascending=True).head()\n",
    "sort_top_overall.style.format(style_format)"
   ]
  },
  {
   "cell_type": "markdown",
   "metadata": {
    "collapsed": true
   },
   "source": [
    "## Math Scores by Grade"
   ]
  },
  {
   "cell_type": "markdown",
   "metadata": {},
   "source": [
    "* Create a table that lists the average Reading Score for students of each grade level (9th, 10th, 11th, 12th) at each school.\n",
    "\n",
    "  * Create a pandas series for each grade. Hint: use a conditional statement.\n",
    "  \n",
    "  * Group each series by school\n",
    "  \n",
    "  * Combine the series into a dataframe\n",
    "  \n",
    "  * Optional: give the displayed data cleaner formatting"
   ]
  },
  {
   "cell_type": "code",
   "execution_count": 29,
   "metadata": {},
   "outputs": [
    {
     "data": {
      "text/html": [
       "<div>\n",
       "<style scoped>\n",
       "    .dataframe tbody tr th:only-of-type {\n",
       "        vertical-align: middle;\n",
       "    }\n",
       "\n",
       "    .dataframe tbody tr th {\n",
       "        vertical-align: top;\n",
       "    }\n",
       "\n",
       "    .dataframe thead th {\n",
       "        text-align: right;\n",
       "    }\n",
       "</style>\n",
       "<table border=\"1\" class=\"dataframe\">\n",
       "  <thead>\n",
       "    <tr style=\"text-align: right;\">\n",
       "      <th></th>\n",
       "      <th>9th</th>\n",
       "      <th>10th</th>\n",
       "      <th>11th</th>\n",
       "      <th>12th</th>\n",
       "    </tr>\n",
       "    <tr>\n",
       "      <th>school_name</th>\n",
       "      <th></th>\n",
       "      <th></th>\n",
       "      <th></th>\n",
       "      <th></th>\n",
       "    </tr>\n",
       "  </thead>\n",
       "  <tbody>\n",
       "    <tr>\n",
       "      <th>Bailey High School</th>\n",
       "      <td>77.083676</td>\n",
       "      <td>76.996772</td>\n",
       "      <td>77.515588</td>\n",
       "      <td>76.492218</td>\n",
       "    </tr>\n",
       "    <tr>\n",
       "      <th>Cabrera High School</th>\n",
       "      <td>83.094697</td>\n",
       "      <td>83.154506</td>\n",
       "      <td>82.765560</td>\n",
       "      <td>83.277487</td>\n",
       "    </tr>\n",
       "    <tr>\n",
       "      <th>Figueroa High School</th>\n",
       "      <td>76.403037</td>\n",
       "      <td>76.539974</td>\n",
       "      <td>76.884344</td>\n",
       "      <td>77.151369</td>\n",
       "    </tr>\n",
       "    <tr>\n",
       "      <th>Ford High School</th>\n",
       "      <td>77.361345</td>\n",
       "      <td>77.672316</td>\n",
       "      <td>76.918058</td>\n",
       "      <td>76.179963</td>\n",
       "    </tr>\n",
       "    <tr>\n",
       "      <th>Griffin High School</th>\n",
       "      <td>82.044010</td>\n",
       "      <td>84.229064</td>\n",
       "      <td>83.842105</td>\n",
       "      <td>83.356164</td>\n",
       "    </tr>\n",
       "    <tr>\n",
       "      <th>Hernandez High School</th>\n",
       "      <td>77.438495</td>\n",
       "      <td>77.337408</td>\n",
       "      <td>77.136029</td>\n",
       "      <td>77.186567</td>\n",
       "    </tr>\n",
       "    <tr>\n",
       "      <th>Holden High School</th>\n",
       "      <td>83.787402</td>\n",
       "      <td>83.429825</td>\n",
       "      <td>85.000000</td>\n",
       "      <td>82.855422</td>\n",
       "    </tr>\n",
       "    <tr>\n",
       "      <th>Huang High School</th>\n",
       "      <td>77.027251</td>\n",
       "      <td>75.908735</td>\n",
       "      <td>76.446602</td>\n",
       "      <td>77.225641</td>\n",
       "    </tr>\n",
       "    <tr>\n",
       "      <th>Johnson High School</th>\n",
       "      <td>77.187857</td>\n",
       "      <td>76.691117</td>\n",
       "      <td>77.491653</td>\n",
       "      <td>76.863248</td>\n",
       "    </tr>\n",
       "    <tr>\n",
       "      <th>Pena High School</th>\n",
       "      <td>83.625455</td>\n",
       "      <td>83.372000</td>\n",
       "      <td>84.328125</td>\n",
       "      <td>84.121547</td>\n",
       "    </tr>\n",
       "    <tr>\n",
       "      <th>Rodriguez High School</th>\n",
       "      <td>76.859966</td>\n",
       "      <td>76.612500</td>\n",
       "      <td>76.395626</td>\n",
       "      <td>77.690748</td>\n",
       "    </tr>\n",
       "    <tr>\n",
       "      <th>Shelton High School</th>\n",
       "      <td>83.420755</td>\n",
       "      <td>82.917411</td>\n",
       "      <td>83.383495</td>\n",
       "      <td>83.778976</td>\n",
       "    </tr>\n",
       "    <tr>\n",
       "      <th>Thomas High School</th>\n",
       "      <td>83.590022</td>\n",
       "      <td>83.087886</td>\n",
       "      <td>83.498795</td>\n",
       "      <td>83.497041</td>\n",
       "    </tr>\n",
       "    <tr>\n",
       "      <th>Wilson High School</th>\n",
       "      <td>83.085578</td>\n",
       "      <td>83.724422</td>\n",
       "      <td>83.195326</td>\n",
       "      <td>83.035794</td>\n",
       "    </tr>\n",
       "    <tr>\n",
       "      <th>Wright High School</th>\n",
       "      <td>83.264706</td>\n",
       "      <td>84.010288</td>\n",
       "      <td>83.836782</td>\n",
       "      <td>83.644986</td>\n",
       "    </tr>\n",
       "  </tbody>\n",
       "</table>\n",
       "</div>"
      ],
      "text/plain": [
       "                             9th       10th       11th       12th\n",
       "school_name                                                      \n",
       "Bailey High School     77.083676  76.996772  77.515588  76.492218\n",
       "Cabrera High School    83.094697  83.154506  82.765560  83.277487\n",
       "Figueroa High School   76.403037  76.539974  76.884344  77.151369\n",
       "Ford High School       77.361345  77.672316  76.918058  76.179963\n",
       "Griffin High School    82.044010  84.229064  83.842105  83.356164\n",
       "Hernandez High School  77.438495  77.337408  77.136029  77.186567\n",
       "Holden High School     83.787402  83.429825  85.000000  82.855422\n",
       "Huang High School      77.027251  75.908735  76.446602  77.225641\n",
       "Johnson High School    77.187857  76.691117  77.491653  76.863248\n",
       "Pena High School       83.625455  83.372000  84.328125  84.121547\n",
       "Rodriguez High School  76.859966  76.612500  76.395626  77.690748\n",
       "Shelton High School    83.420755  82.917411  83.383495  83.778976\n",
       "Thomas High School     83.590022  83.087886  83.498795  83.497041\n",
       "Wilson High School     83.085578  83.724422  83.195326  83.035794\n",
       "Wright High School     83.264706  84.010288  83.836782  83.644986"
      ]
     },
     "execution_count": 29,
     "metadata": {},
     "output_type": "execute_result"
    }
   ],
   "source": [
    "# create series and concat them\n",
    "nine =student_data.loc[student_data['grade'] == '9th',:].groupby(['school_name']).mean().math_score\n",
    "ten = student_data.loc[student_data['grade'] == '10th',:].groupby(['school_name']).mean().math_score\n",
    "eleven = student_data.loc[student_data['grade'] == '11th',:].groupby(['school_name']).mean().math_score\n",
    "twelve = student_data.loc[student_data['grade'] == '12th',:].groupby(['school_name']).mean().math_score\n",
    "#build data frame with series \n",
    "math_score_grade = pd.DataFrame({'9th':nine,'10th':ten,'11th':eleven,'12th':twelve})\n",
    "math_score_grade"
   ]
  },
  {
   "cell_type": "markdown",
   "metadata": {},
   "source": [
    "## Reading Score by Grade "
   ]
  },
  {
   "cell_type": "markdown",
   "metadata": {},
   "source": [
    "* Perform the same operations as above for reading scores"
   ]
  },
  {
   "cell_type": "code",
   "execution_count": 30,
   "metadata": {},
   "outputs": [
    {
     "data": {
      "text/html": [
       "<div>\n",
       "<style scoped>\n",
       "    .dataframe tbody tr th:only-of-type {\n",
       "        vertical-align: middle;\n",
       "    }\n",
       "\n",
       "    .dataframe tbody tr th {\n",
       "        vertical-align: top;\n",
       "    }\n",
       "\n",
       "    .dataframe thead th {\n",
       "        text-align: right;\n",
       "    }\n",
       "</style>\n",
       "<table border=\"1\" class=\"dataframe\">\n",
       "  <thead>\n",
       "    <tr style=\"text-align: right;\">\n",
       "      <th></th>\n",
       "      <th>9th</th>\n",
       "      <th>10th</th>\n",
       "      <th>11th</th>\n",
       "      <th>12th</th>\n",
       "    </tr>\n",
       "    <tr>\n",
       "      <th>school_name</th>\n",
       "      <th></th>\n",
       "      <th></th>\n",
       "      <th></th>\n",
       "      <th></th>\n",
       "    </tr>\n",
       "  </thead>\n",
       "  <tbody>\n",
       "    <tr>\n",
       "      <th>Bailey High School</th>\n",
       "      <td>81.303155</td>\n",
       "      <td>80.907183</td>\n",
       "      <td>80.945643</td>\n",
       "      <td>80.912451</td>\n",
       "    </tr>\n",
       "    <tr>\n",
       "      <th>Cabrera High School</th>\n",
       "      <td>83.676136</td>\n",
       "      <td>84.253219</td>\n",
       "      <td>83.788382</td>\n",
       "      <td>84.287958</td>\n",
       "    </tr>\n",
       "    <tr>\n",
       "      <th>Figueroa High School</th>\n",
       "      <td>81.198598</td>\n",
       "      <td>81.408912</td>\n",
       "      <td>80.640339</td>\n",
       "      <td>81.384863</td>\n",
       "    </tr>\n",
       "    <tr>\n",
       "      <th>Ford High School</th>\n",
       "      <td>80.632653</td>\n",
       "      <td>81.262712</td>\n",
       "      <td>80.403642</td>\n",
       "      <td>80.662338</td>\n",
       "    </tr>\n",
       "    <tr>\n",
       "      <th>Griffin High School</th>\n",
       "      <td>83.369193</td>\n",
       "      <td>83.706897</td>\n",
       "      <td>84.288089</td>\n",
       "      <td>84.013699</td>\n",
       "    </tr>\n",
       "    <tr>\n",
       "      <th>Hernandez High School</th>\n",
       "      <td>80.866860</td>\n",
       "      <td>80.660147</td>\n",
       "      <td>81.396140</td>\n",
       "      <td>80.857143</td>\n",
       "    </tr>\n",
       "    <tr>\n",
       "      <th>Holden High School</th>\n",
       "      <td>83.677165</td>\n",
       "      <td>83.324561</td>\n",
       "      <td>83.815534</td>\n",
       "      <td>84.698795</td>\n",
       "    </tr>\n",
       "    <tr>\n",
       "      <th>Huang High School</th>\n",
       "      <td>81.290284</td>\n",
       "      <td>81.512386</td>\n",
       "      <td>81.417476</td>\n",
       "      <td>80.305983</td>\n",
       "    </tr>\n",
       "    <tr>\n",
       "      <th>Johnson High School</th>\n",
       "      <td>81.260714</td>\n",
       "      <td>80.773431</td>\n",
       "      <td>80.616027</td>\n",
       "      <td>81.227564</td>\n",
       "    </tr>\n",
       "    <tr>\n",
       "      <th>Pena High School</th>\n",
       "      <td>83.807273</td>\n",
       "      <td>83.612000</td>\n",
       "      <td>84.335938</td>\n",
       "      <td>84.591160</td>\n",
       "    </tr>\n",
       "    <tr>\n",
       "      <th>Rodriguez High School</th>\n",
       "      <td>80.993127</td>\n",
       "      <td>80.629808</td>\n",
       "      <td>80.864811</td>\n",
       "      <td>80.376426</td>\n",
       "    </tr>\n",
       "    <tr>\n",
       "      <th>Shelton High School</th>\n",
       "      <td>84.122642</td>\n",
       "      <td>83.441964</td>\n",
       "      <td>84.373786</td>\n",
       "      <td>82.781671</td>\n",
       "    </tr>\n",
       "    <tr>\n",
       "      <th>Thomas High School</th>\n",
       "      <td>83.728850</td>\n",
       "      <td>84.254157</td>\n",
       "      <td>83.585542</td>\n",
       "      <td>83.831361</td>\n",
       "    </tr>\n",
       "    <tr>\n",
       "      <th>Wilson High School</th>\n",
       "      <td>83.939778</td>\n",
       "      <td>84.021452</td>\n",
       "      <td>83.764608</td>\n",
       "      <td>84.317673</td>\n",
       "    </tr>\n",
       "    <tr>\n",
       "      <th>Wright High School</th>\n",
       "      <td>83.833333</td>\n",
       "      <td>83.812757</td>\n",
       "      <td>84.156322</td>\n",
       "      <td>84.073171</td>\n",
       "    </tr>\n",
       "  </tbody>\n",
       "</table>\n",
       "</div>"
      ],
      "text/plain": [
       "                             9th       10th       11th       12th\n",
       "school_name                                                      \n",
       "Bailey High School     81.303155  80.907183  80.945643  80.912451\n",
       "Cabrera High School    83.676136  84.253219  83.788382  84.287958\n",
       "Figueroa High School   81.198598  81.408912  80.640339  81.384863\n",
       "Ford High School       80.632653  81.262712  80.403642  80.662338\n",
       "Griffin High School    83.369193  83.706897  84.288089  84.013699\n",
       "Hernandez High School  80.866860  80.660147  81.396140  80.857143\n",
       "Holden High School     83.677165  83.324561  83.815534  84.698795\n",
       "Huang High School      81.290284  81.512386  81.417476  80.305983\n",
       "Johnson High School    81.260714  80.773431  80.616027  81.227564\n",
       "Pena High School       83.807273  83.612000  84.335938  84.591160\n",
       "Rodriguez High School  80.993127  80.629808  80.864811  80.376426\n",
       "Shelton High School    84.122642  83.441964  84.373786  82.781671\n",
       "Thomas High School     83.728850  84.254157  83.585542  83.831361\n",
       "Wilson High School     83.939778  84.021452  83.764608  84.317673\n",
       "Wright High School     83.833333  83.812757  84.156322  84.073171"
      ]
     },
     "execution_count": 30,
     "metadata": {},
     "output_type": "execute_result"
    }
   ],
   "source": [
    "nine_read =student_data.loc[student_data['grade'] == '9th',:].groupby(['school_name']).mean().reading_score\n",
    "ten_read = student_data.loc[student_data['grade'] == '10th',:].groupby(['school_name']).mean().reading_score\n",
    "eleven_read = student_data.loc[student_data['grade'] == '11th',:].groupby(['school_name']).mean().reading_score\n",
    "twelve_read = student_data.loc[student_data['grade'] == '12th',:].groupby(['school_name']).mean().reading_score\n",
    "\n",
    "reading_score_grade = pd.DataFrame({'9th':nine_read,'10th':ten_read,'11th':eleven_read,'12th':twelve_read})\n",
    "reading_score_grade"
   ]
  },
  {
   "cell_type": "markdown",
   "metadata": {},
   "source": [
    "## Scores by School Spending"
   ]
  },
  {
   "cell_type": "markdown",
   "metadata": {},
   "source": [
    "* Create a table that breaks down school performances based on average Spending Ranges (Per Student). Use 4 reasonable bins to group school spending. Include in the table each of the following:\n",
    "  * Average Math Score\n",
    "  * Average Reading Score\n",
    "  * % Passing Math\n",
    "  * % Passing Reading\n",
    "  * Overall Passing Rate (Average of the above two)"
   ]
  },
  {
   "cell_type": "code",
   "execution_count": 31,
   "metadata": {},
   "outputs": [
    {
     "name": "stderr",
     "output_type": "stream",
     "text": [
      "<ipython-input-31-8c9659233e81>:11: SettingWithCopyWarning: \n",
      "A value is trying to be set on a copy of a slice from a DataFrame.\n",
      "Try using .loc[row_indexer,col_indexer] = value instead\n",
      "\n",
      "See the caveats in the documentation: https://pandas.pydata.org/pandas-docs/stable/user_guide/indexing.html#returning-a-view-versus-a-copy\n",
      "  scores_by_spending['Spending Ranges(Per Student)'] = pd.cut(new_groupby_name[\"Per Student Budget\"],bins, labels = group_name, include_lowest = True )\n"
     ]
    },
    {
     "data": {
      "text/html": [
       "<style  type=\"text/css\" >\n",
       "</style><table id=\"T_73282_\" ><thead>    <tr>        <th class=\"blank level0\" ></th>        <th class=\"col_heading level0 col0\" >Average Math Score</th>        <th class=\"col_heading level0 col1\" >Average Reading Score</th>        <th class=\"col_heading level0 col2\" >% Passing Math</th>        <th class=\"col_heading level0 col3\" >% Passing Reading</th>        <th class=\"col_heading level0 col4\" >% Overall Passing</th>    </tr>    <tr>        <th class=\"index_name level0\" >Spending Ranges(Per Student)</th>        <th class=\"blank\" ></th>        <th class=\"blank\" ></th>        <th class=\"blank\" ></th>        <th class=\"blank\" ></th>        <th class=\"blank\" ></th>    </tr></thead><tbody>\n",
       "                <tr>\n",
       "                        <th id=\"T_73282_level0_row0\" class=\"row_heading level0 row0\" ><$584</th>\n",
       "                        <td id=\"T_73282_row0_col0\" class=\"data row0 col0\" >83.46</td>\n",
       "                        <td id=\"T_73282_row0_col1\" class=\"data row0 col1\" >83.93</td>\n",
       "                        <td id=\"T_73282_row0_col2\" class=\"data row0 col2\" >93.46</td>\n",
       "                        <td id=\"T_73282_row0_col3\" class=\"data row0 col3\" >96.61</td>\n",
       "                        <td id=\"T_73282_row0_col4\" class=\"data row0 col4\" >90.37</td>\n",
       "            </tr>\n",
       "            <tr>\n",
       "                        <th id=\"T_73282_level0_row1\" class=\"row_heading level0 row1\" >$585-629</th>\n",
       "                        <td id=\"T_73282_row1_col0\" class=\"data row1 col0\" >81.90</td>\n",
       "                        <td id=\"T_73282_row1_col1\" class=\"data row1 col1\" >83.16</td>\n",
       "                        <td id=\"T_73282_row1_col2\" class=\"data row1 col2\" >87.13</td>\n",
       "                        <td id=\"T_73282_row1_col3\" class=\"data row1 col3\" >92.72</td>\n",
       "                        <td id=\"T_73282_row1_col4\" class=\"data row1 col4\" >81.42</td>\n",
       "            </tr>\n",
       "            <tr>\n",
       "                        <th id=\"T_73282_level0_row2\" class=\"row_heading level0 row2\" >$630-644</th>\n",
       "                        <td id=\"T_73282_row2_col0\" class=\"data row2 col0\" >78.52</td>\n",
       "                        <td id=\"T_73282_row2_col1\" class=\"data row2 col1\" >81.62</td>\n",
       "                        <td id=\"T_73282_row2_col2\" class=\"data row2 col2\" >73.48</td>\n",
       "                        <td id=\"T_73282_row2_col3\" class=\"data row2 col3\" >84.39</td>\n",
       "                        <td id=\"T_73282_row2_col4\" class=\"data row2 col4\" >62.86</td>\n",
       "            </tr>\n",
       "            <tr>\n",
       "                        <th id=\"T_73282_level0_row3\" class=\"row_heading level0 row3\" >$645-675</th>\n",
       "                        <td id=\"T_73282_row3_col0\" class=\"data row3 col0\" >77.00</td>\n",
       "                        <td id=\"T_73282_row3_col1\" class=\"data row3 col1\" >81.03</td>\n",
       "                        <td id=\"T_73282_row3_col2\" class=\"data row3 col2\" >66.16</td>\n",
       "                        <td id=\"T_73282_row3_col3\" class=\"data row3 col3\" >81.13</td>\n",
       "                        <td id=\"T_73282_row3_col4\" class=\"data row3 col4\" >53.53</td>\n",
       "            </tr>\n",
       "    </tbody></table>"
      ],
      "text/plain": [
       "<pandas.io.formats.style.Styler at 0x7fa3e34e8d90>"
      ]
     },
     "execution_count": 31,
     "metadata": {},
     "output_type": "execute_result"
    }
   ],
   "source": [
    "#make bin list and group name list\n",
    "bins = [0,585,630,645,675]\n",
    "group_name = ['<$584','$585-629','$630-644','$645-675']\n",
    "#pick columns wantted to show\n",
    "scores_by_spending = new_groupby_name[[\"Average Math Score\",\n",
    "                                    \"Average Reading Score\",\n",
    "                                    \"% Passing Math\",\n",
    "                                    \"% Passing Reading\",\n",
    "                                    \"% Overall Passing\"]]\n",
    "#binning function\n",
    "scores_by_spending['Spending Ranges(Per Student)'] = pd.cut(new_groupby_name[\"Per Student Budget\"],bins, labels = group_name, include_lowest = True )\n",
    "#group by new index \n",
    "scores_by_spending  = scores_by_spending.groupby('Spending Ranges(Per Student)').mean()\n",
    "#format table\n",
    "spending_style_format = {'Average Math Score': '{:.2f}', \n",
    "                          'Average Reading Score': '{:.2f}', \n",
    "                          '% Passing Math': '{:.2f}', \n",
    "                          '% Passing Reading': '{:.2f}', \n",
    "                          '% Overall Passing': '{:.2f}'}\n",
    "scores_by_spending.style.format(spending_style_format)"
   ]
  },
  {
   "cell_type": "code",
   "execution_count": null,
   "metadata": {},
   "outputs": [],
   "source": []
  },
  {
   "cell_type": "code",
   "execution_count": null,
   "metadata": {},
   "outputs": [],
   "source": []
  },
  {
   "cell_type": "markdown",
   "metadata": {},
   "source": [
    "## Scores by School Size"
   ]
  },
  {
   "cell_type": "markdown",
   "metadata": {},
   "source": [
    "* Perform the same operations as above, based on school size."
   ]
  },
  {
   "cell_type": "code",
   "execution_count": 32,
   "metadata": {
    "scrolled": true
   },
   "outputs": [
    {
     "name": "stderr",
     "output_type": "stream",
     "text": [
      "<ipython-input-32-893368f0e958>:8: SettingWithCopyWarning: \n",
      "A value is trying to be set on a copy of a slice from a DataFrame.\n",
      "Try using .loc[row_indexer,col_indexer] = value instead\n",
      "\n",
      "See the caveats in the documentation: https://pandas.pydata.org/pandas-docs/stable/user_guide/indexing.html#returning-a-view-versus-a-copy\n",
      "  scores_by_size['School Size'] = pd.cut(new_groupby_name[\"Total Students\"],bins, labels = group_name, include_lowest = True )\n"
     ]
    },
    {
     "data": {
      "text/html": [
       "<style  type=\"text/css\" >\n",
       "</style><table id=\"T_5423f_\" ><thead>    <tr>        <th class=\"blank level0\" ></th>        <th class=\"col_heading level0 col0\" >Average Math Score</th>        <th class=\"col_heading level0 col1\" >Average Reading Score</th>        <th class=\"col_heading level0 col2\" >% Passing Math</th>        <th class=\"col_heading level0 col3\" >% Passing Reading</th>        <th class=\"col_heading level0 col4\" >% Overall Passing</th>    </tr>    <tr>        <th class=\"index_name level0\" >School Size</th>        <th class=\"blank\" ></th>        <th class=\"blank\" ></th>        <th class=\"blank\" ></th>        <th class=\"blank\" ></th>        <th class=\"blank\" ></th>    </tr></thead><tbody>\n",
       "                <tr>\n",
       "                        <th id=\"T_5423f_level0_row0\" class=\"row_heading level0 row0\" >Small (<1000)</th>\n",
       "                        <td id=\"T_5423f_row0_col0\" class=\"data row0 col0\" >83.821598</td>\n",
       "                        <td id=\"T_5423f_row0_col1\" class=\"data row0 col1\" >83.929843</td>\n",
       "                        <td id=\"T_5423f_row0_col2\" class=\"data row0 col2\" >93.550225</td>\n",
       "                        <td id=\"T_5423f_row0_col3\" class=\"data row0 col3\" >96.099437</td>\n",
       "                        <td id=\"T_5423f_row0_col4\" class=\"data row0 col4\" >89.883853</td>\n",
       "            </tr>\n",
       "            <tr>\n",
       "                        <th id=\"T_5423f_level0_row1\" class=\"row_heading level0 row1\" >Medium (1000-2000)</th>\n",
       "                        <td id=\"T_5423f_row1_col0\" class=\"data row1 col0\" >83.374684</td>\n",
       "                        <td id=\"T_5423f_row1_col1\" class=\"data row1 col1\" >83.864438</td>\n",
       "                        <td id=\"T_5423f_row1_col2\" class=\"data row1 col2\" >93.599695</td>\n",
       "                        <td id=\"T_5423f_row1_col3\" class=\"data row1 col3\" >96.790680</td>\n",
       "                        <td id=\"T_5423f_row1_col4\" class=\"data row1 col4\" >90.621535</td>\n",
       "            </tr>\n",
       "            <tr>\n",
       "                        <th id=\"T_5423f_level0_row2\" class=\"row_heading level0 row2\" >Large (2000-5000)</th>\n",
       "                        <td id=\"T_5423f_row2_col0\" class=\"data row2 col0\" >77.746417</td>\n",
       "                        <td id=\"T_5423f_row2_col1\" class=\"data row2 col1\" >81.344493</td>\n",
       "                        <td id=\"T_5423f_row2_col2\" class=\"data row2 col2\" >69.963361</td>\n",
       "                        <td id=\"T_5423f_row2_col3\" class=\"data row2 col3\" >82.766634</td>\n",
       "                        <td id=\"T_5423f_row2_col4\" class=\"data row2 col4\" >58.286003</td>\n",
       "            </tr>\n",
       "    </tbody></table>"
      ],
      "text/plain": [
       "<pandas.io.formats.style.Styler at 0x7fa3e34e8850>"
      ]
     },
     "execution_count": 32,
     "metadata": {},
     "output_type": "execute_result"
    }
   ],
   "source": [
    "bins = [0,1000,2000,5000]\n",
    "group_name = ['Small (<1000)','Medium (1000-2000)','Large (2000-5000)']\n",
    "scores_by_size = new_groupby_name[[\"Average Math Score\",\n",
    "                                    \"Average Reading Score\",\n",
    "                                    \"% Passing Math\",\n",
    "                                    \"% Passing Reading\",\n",
    "                                    \"% Overall Passing\"]]\n",
    "scores_by_size['School Size'] = pd.cut(new_groupby_name[\"Total Students\"],bins, labels = group_name, include_lowest = True )\n",
    "scores_by_size  = scores_by_size.groupby('School Size').mean()\n",
    "\n",
    "size_style_format = {'Average Math Score': '{:.6f}', \n",
    "                          'Average Reading Score': '{:.6f}', \n",
    "                          '% Passing Math': '{:.6f}', \n",
    "                          '% Passing Reading': '{:.6f}', \n",
    "                          '% Overall Passing': '{:.6f}'}\n",
    "scores_by_size.style.format(size_style_format)"
   ]
  },
  {
   "cell_type": "markdown",
   "metadata": {},
   "source": [
    "## Scores by School Type"
   ]
  },
  {
   "cell_type": "markdown",
   "metadata": {},
   "source": [
    "* Perform the same operations as above, based on school type"
   ]
  },
  {
   "cell_type": "code",
   "execution_count": 33,
   "metadata": {},
   "outputs": [
    {
     "data": {
      "text/html": [
       "<div>\n",
       "<style scoped>\n",
       "    .dataframe tbody tr th:only-of-type {\n",
       "        vertical-align: middle;\n",
       "    }\n",
       "\n",
       "    .dataframe tbody tr th {\n",
       "        vertical-align: top;\n",
       "    }\n",
       "\n",
       "    .dataframe thead th {\n",
       "        text-align: right;\n",
       "    }\n",
       "</style>\n",
       "<table border=\"1\" class=\"dataframe\">\n",
       "  <thead>\n",
       "    <tr style=\"text-align: right;\">\n",
       "      <th></th>\n",
       "      <th>Average Math Score</th>\n",
       "      <th>Average Reading Score</th>\n",
       "      <th>% Passing Math</th>\n",
       "      <th>% Passing Reading</th>\n",
       "      <th>% Overall Passing</th>\n",
       "    </tr>\n",
       "    <tr>\n",
       "      <th>School Type</th>\n",
       "      <th></th>\n",
       "      <th></th>\n",
       "      <th></th>\n",
       "      <th></th>\n",
       "      <th></th>\n",
       "    </tr>\n",
       "  </thead>\n",
       "  <tbody>\n",
       "    <tr>\n",
       "      <th>Charter</th>\n",
       "      <td>83.473852</td>\n",
       "      <td>83.896421</td>\n",
       "      <td>93.620830</td>\n",
       "      <td>96.586489</td>\n",
       "      <td>90.432244</td>\n",
       "    </tr>\n",
       "    <tr>\n",
       "      <th>District</th>\n",
       "      <td>76.956733</td>\n",
       "      <td>80.966636</td>\n",
       "      <td>66.548453</td>\n",
       "      <td>80.799062</td>\n",
       "      <td>53.672208</td>\n",
       "    </tr>\n",
       "  </tbody>\n",
       "</table>\n",
       "</div>"
      ],
      "text/plain": [
       "             Average Math Score  Average Reading Score  % Passing Math  \\\n",
       "School Type                                                              \n",
       "Charter               83.473852              83.896421       93.620830   \n",
       "District              76.956733              80.966636       66.548453   \n",
       "\n",
       "             % Passing Reading  % Overall Passing  \n",
       "School Type                                        \n",
       "Charter              96.586489          90.432244  \n",
       "District             80.799062          53.672208  "
      ]
     },
     "execution_count": 33,
     "metadata": {},
     "output_type": "execute_result"
    }
   ],
   "source": [
    "#simple group by type\n",
    "scores_by_type = new_groupby_name[[\"School Type\",\n",
    "                                    \"Average Math Score\",\n",
    "                                    \"Average Reading Score\",\n",
    "                                    \"% Passing Math\",\n",
    "                                    \"% Passing Reading\",\n",
    "                                    \"% Overall Passing\"]]\n",
    "\n",
    "scores_by_type  = scores_by_type.groupby('School Type')\n",
    "scores_by_type.mean()\n"
   ]
  },
  {
   "cell_type": "code",
   "execution_count": null,
   "metadata": {},
   "outputs": [],
   "source": []
  },
  {
   "cell_type": "code",
   "execution_count": null,
   "metadata": {},
   "outputs": [],
   "source": []
  }
 ],
 "metadata": {
  "anaconda-cloud": {},
  "kernel_info": {
   "name": "python3"
  },
  "kernelspec": {
   "display_name": "Python 3",
   "language": "python",
   "name": "python3"
  },
  "language_info": {
   "codemirror_mode": {
    "name": "ipython",
    "version": 3
   },
   "file_extension": ".py",
   "mimetype": "text/x-python",
   "name": "python",
   "nbconvert_exporter": "python",
   "pygments_lexer": "ipython3",
   "version": "3.8.8"
  },
  "latex_envs": {
   "LaTeX_envs_menu_present": true,
   "autoclose": false,
   "autocomplete": true,
   "bibliofile": "biblio.bib",
   "cite_by": "apalike",
   "current_citInitial": 1,
   "eqLabelWithNumbers": true,
   "eqNumInitial": 1,
   "hotkeys": {
    "equation": "Ctrl-E",
    "itemize": "Ctrl-I"
   },
   "labels_anchors": false,
   "latex_user_defs": false,
   "report_style_numbering": false,
   "user_envs_cfg": false
  },
  "nteract": {
   "version": "0.8.4"
  }
 },
 "nbformat": 4,
 "nbformat_minor": 1
}
